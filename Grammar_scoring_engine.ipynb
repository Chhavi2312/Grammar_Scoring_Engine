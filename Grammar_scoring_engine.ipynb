{
 "cells": [
  {
   "cell_type": "code",
   "execution_count": 1,
   "id": "c7d6bd67-7947-4aa6-b7b5-398091b91ada",
   "metadata": {},
   "outputs": [],
   "source": [
    "import warnings\n",
    "warnings.filterwarnings(\"ignore\", message=\"FP16 is not supported on CPU; using FP32 instead\")# to ignore warning \n"
   ]
  },
  {
   "cell_type": "code",
   "execution_count": 2,
   "id": "747ed074-e724-4678-88dc-2a28aede0c8d",
   "metadata": {},
   "outputs": [],
   "source": [
    "import matplotlib as plt\n",
    "import seaborn as sns"
   ]
  },
  {
   "cell_type": "code",
   "execution_count": 3,
   "id": "9c0d852f-e015-4d5a-b24e-5c6539429cf9",
   "metadata": {},
   "outputs": [
    {
     "name": "stdout",
     "output_type": "stream",
     "text": [
      "['hindi_0597.wav', 'hindi_0554.wav', 'hindi_0232.wav', 'hindi_0226.wav', 'hindi_1138.wav', 'hindi_0540.wav', 'hindi_0795.wav', 'hindi_0959.wav', 'hindi_0781.wav', 'hindi_0971.wav', 'hindi_0965.wav', 'hindi_0030.wav', 'hindi_0756.wav', 'hindi_0742.wav', 'hindi_0024.wav', 'hindi_0018.wav', 'hindi_0839.wav', 'recording2020_01_16_11_03_51.wav', 'arctic_a0387.wav', 'hindi_0805.wav', 'hindi_0811.wav', 'hindi_0622.wav', 'hindi_0636.wav', 'hindi_0150.wav', 'hindi_0178.wav', 'hindi_0385.wav', 'hindi_0391.wav', 'hindi_0420.wav', 'hindi_0346.wav', 'hindi_0352.wav', 'hindi_0434.wav', 'hindi_1070.wav', 'hindi_0409.wav', 'hindi_0353.wav', 'hindi_0421.wav', 'hindi_0390.wav', 'hindi_0384.wav', 'hindi_0179.wav', 'hindi_0637.wav', 'hindi_0151.wav', 'hindi_0623.wav', 'hindi_0810.wav', 'hindi_0804.wav', 'hindi_0838.wav', 'hindi_0025.wav', 'hindi_0031.wav', 'hindi_0757.wav', 'hindi_0964.wav', 'usfemale (15).wav', 'hindi_0970.wav', 'hindi_0780.wav', 'hindi_0958.wav', 'hindi_0794.wav', 'hindi_1105.wav', 'hindi_0569.wav', 'hindi_1139.wav', 'hindi_0541.wav', 'hindi_0555.wav', 'hindi_0233.wav', 'hindi_0582.wav', 'hindi_0596.wav', 'hindi_0580.wav', 'hindi_0594.wav', 'usfemale (35).wav', 'hindi_0543.wav', 'gu_00363.wav', 'hindi_0225.wav', 'hindi_0231.wav', 'hindi_0557.wav', 'hindi_0219.wav', 'hindi_1107.wav', 'hindi_0782.wav', 'hindi_0966.wav', 'hindi_0972.wav', 'hindi_0027.wav', 'hindi_0741.wav', 'arctic_b0496.wav', 'hindi_0999.wav', 'hindi_0755.wav', 'hindi_0769.wav', 'hindi_0184.wav', 'hindi_0812.wav', 'hindi_0806.wav', 'hindi_0153.wav', 'recording2020_01_16_11_31_23.wav', 'hindi_0635.wav', 'hindi_0621.wav', 'hindi_0386.wav', 'usfemale (23).wav', 'hindi_0437.wav', 'hindi_0423.wav', 'hindi_1067.wav', 'hindi_0379.wav', 'hindi_1066.wav', 'hindi_0422.wav', 'hindi_0436.wav', 'hindi_0350.wav', 'hindi_1099.wav', 'hindi_0387.wav', 'hindi_0393.wav', 'hindi_0620.wav', 'usfemale (3).wav', 'hindi_0146.wav', 'hindi_0807.wav', 'hindi_0813.wav', 'hindi_0185.wav', 'hindi_0768.wav', 'usfemale (19).wav', 'hindi_0032.wav', 'hindi_0026.wav', 'hindi_0998.wav', 'hindi_0740.wav', 'hindi_0973.wav', 'hindi_0967.wav', 'hindi_0797.wav', 'hindi_0783.wav', 'hindi_1112.wav', 'hindi_1106.wav', 'hindi_0218.wav', 'gu_00410.wav', 'hindi_0556.wav', 'hindi_0542.wav', 'hindi_0224.wav', 'recording2020_01_16_11_02_13.wav', 'hindi_0581.wav', 'recording2020_01_16_11_02_03.wav', 'hindi_0585.wav', 'hindi_0591.wav', 'hindi_0208.wav', 'hindi_1116.wav', 'hindi_0546.wav', 'hindi_0552.wav', 'hindi_0234.wav', 'hindi_0963.wav', 'hindi_0977.wav', 'hindi_0793.wav', 'hindi_0778.wav', 'usfemale (18).wav', 'hindi_0744.wav', 'hindi_0022.wav', 'hindi_0036.wav', 'hindi_0750.wav', 'hindi_0988.wav', 'hindi_0817.wav', 'recording2020_01_28_11_06_25.wav', 'hindi_0803.wav', 'recording2020_01_16_11_17_22.wav', 'recording2020_01_16_11_03_57.wav', 'hindi_0181.wav', 'hindi_0618.wav', 'usfemale (2).wav', 'hindi_0630.wav', 'hindi_0142.wav', 'hindi_0624.wav', 'hindi_0383.wav', 'hindi_0368.wav', 'hindi_1062.wav', 'hindi_0354.wav', 'hindi_0432.wav', 'hindi_0426.wav', 'hindi_0340.wav', 'gu_00560.wav', 'hindi_0427.wav', 'hindi_0341.wav', 'hindi_0355.wav', 'hindi_0433.wav', 'hindi_1063.wav', 'hindi_0369.wav', 'hindi_0382.wav', 'hindi_0396.wav', 'usfemale (22).wav', 'hindi_0143.wav', 'hindi_0631.wav', 'hindi_0157.wav', 'hindi_0180.wav', 'hindi_0802.wav', 'hindi_0816.wav', 'hindi_0037.wav', 'hindi_0989.wav', 'hindi_0751.wav', 'hindi_0745.wav', 'hindi_0779.wav', 'hindi_0792.wav', 'hindi_0786.wav', 'hindi_0976.wav', 'hindi_0962.wav', 'hindi_0553.wav', 'recording2020_01_16_11_23_27.wav', 'hindi_0235.wav', 'hindi_0221.wav', 'hindi_0547.wav', 'hindi_1117.wav', 'hindi_0209.wav', 'hindi_1103.wav', 'usfemale (34).wav', 'hindi_0586.wav', 'hindi_1115.wav', 'hindi_0579.wav', 'arctic_a0023.wav', 'hindi_1129.wav', 'hindi_0551.wav', 'hindi_0223.wav', 'hindi_0974.wav', 'usfemale (14).wav', 'hindi_0960.wav', 'hindi_0948.wav', 'hindi_0790.wav', 'hindi_0784.wav', 'hindi_0009.wav', 'hindi_0753.wav', 'hindi_0021.wav', 'hindi_0800.wav', 'recording2020_01_28_11_06_32.wav', 'hindi_0814.wav', 'hindi_0182.wav', 'hindi_0828.wav', 'hindi_0169.wav', 'hindi_0141.wav', 'hindi_0155.wav', 'hindi_0633.wav', 'hindi_0380.wav', 'hindi_0343.wav', 'gu_00563.wav', 'hindi_0425.wav', 'hindi_0431.wav', 'hindi_0357.wav', 'hindi_0430.wav', 'hindi_0356.wav', 'hindi_1048.wav', 'hindi_0342.wav', 'hindi_0424.wav', 'hindi_1074.wav', 'hindi_0418.wav', 'recording2020_01_16_11_00_38.wav', 'hindi_0395.wav', 'hindi_0381.wav', 'hindi_0154.wav', 'hindi_0632.wav', 'hindi_0626.wav', 'hindi_0140.wav', 'hindi_0168.wav', 'hindi_0829.wav', 'hindi_0183.wav', 'hindi_0815.wav', 'hindi_0801.wav', 'hindi_0746.wav', 'hindi_0752.wav', 'hindi_0008.wav', 'hindi_0791.wav', 'hindi_0975.wav', 'hindi_0544.wav', 'hindi_0222.wav', 'hindi_0236.wav', 'hindi_0550.wav', 'gu_00370.wav', 'hindi_0578.wav', 'hindi_0587.wav', 'hindi_0593.wav', 'recording2020_01_16_10_58_32.wav', 'hindi_1198.wav', 'hindi_0286.wav', 'usfemale (33).wav', 'hindi_0251.wav', 'hindi_0537.wav', 'hindi_0523.wav', 'hindi_0245.wav', 'hindi_0279.wav', 'hindi_0912.wav', 'hindi_0906.wav', 'hindi_0735.wav', 'hindi_0053.wav', 'hindi_0047.wav', 'hindi_0721.wav', 'hindi_0709.wav', 'recording2020_01_16_11_17_53.wav', 'hindi_0696.wav', 'hindi_0866.wav', 'hindi_0899.wav', 'hindi_0641.wav', 'hindi_0669.wav', 'usfemale (25).wav', 'hindi_0325.wav', 'hindi_0443.wav', 'hindi_0457.wav', 'hindi_0331.wav', 'hindi_1007.wav', 'hindi_1013.wav', 'hindi_1012.wav', 'hindi_0330.wav', 'hindi_0324.wav', 'reordinFemale.wav', 'hindi_0442.wav', 'hindi_0495.wav', 'hindi_0481.wav', 'hindi_0668.wav', 'hindi_1204.wav', 'hindi_0132.wav', 'hindi_0654.wav', 'hindi_0640.wav', 'usfemale (5).wav', 'hindi_0898.wav', 'hindi_0126.wav', 'hindi_0873.wav', 'hindi_0867.wav', 'hindi_0697.wav', 'recording2020_01_16_10_59_00.wav', 'hindi_0683.wav', 'hindi_0708.wav', 'hindi_0734.wav', 'hindi_0907.wav', 'recording2020_01_16_10_55_28.wav', 'hindi_0091.wav', 'hindi_0278.wav', 'hindi_0522.wav', 'hindi_0244.wav', 'hindi_0250.wav', 'hindi_0536.wav', 'hindi_0287.wav', 'hindi_0293.wav', 'recording2020_01_28_11_07_17.wav', 'hindi_0285.wav', 'hindi_0291.wav', 'hindi_0246.wav', 'hindi_1158.wav', 'hindi_0520.wav', 'hindi_0534.wav', 'hindi_0252.wav', 'hindi_0508.wav', 'hindi_1170.wav', 'hindi_0939.wav', 'hindi_0093.wav', 'hindi_0905.wav', 'hindi_0911.wav', 'hindi_0722.wav', 'arctic_a0250.wav', 'hindi_0044.wav', 'hindi_0050.wav', 'hindi_0736.wav', 'hindi_0695.wav', 'hindi_0681.wav', 'hindi_0871.wav', 'hindi_0865.wav', 'hindi_0130.wav', 'hindi_0642.wav', 'hindi_0118.wav', 'hindi_0497.wav', 'hindi_0483.wav', 'hindi_0332.wav', 'hindi_0454.wav', 'hindi_0440.wav', 'hindi_1038.wav', 'hindi_0326.wav', 'hindi_1010.wav', 'hindi_0468.wav', 'usfemale (29).wav', 'hindi_1004.wav', 'hindi_1005.wav', 'hindi_1011.wav', 'hindi_0469.wav', 'hindi_0441.wav', 'hindi_0327.wav', 'hindi_1039.wav', 'hindi_0333.wav', 'hindi_0455.wav', 'hindi_0482.wav', 'hindi_0496.wav', 'hindi_0125.wav', 'hindi_0643.wav', 'hindi_0657.wav', 'hindi_0131.wav', 'hindi_0864.wav', 'hindi_0870.wav', 'hindi_0858.wav', 'hindi_0680.wav', 'recording2020_01_16_11_04_39.wav', 'hindi_0694.wav', 'hindi_0079.wav', 'hindi_0051.wav', 'hindi_0737.wav', 'hindi_0045.wav', 'hindi_0904.wav', 'hindi_0092.wav', 'recording2020_01_16_11_15_40.wav', 'hindi_0086.wav', 'hindi_0509.wav', 'hindi_1171.wav', 'hindi_1165.wav', 'hindi_0535.wav', 'hindi_0253.wav', 'hindi_1159.wav', 'hindi_0247.wav', 'hindi_0284.wav', 'hindi_0280.wav', 'hindi_0294.wav', 'hindi_1161.wav', 'hindi_1175.wav', 'hindi_0525.wav', 'hindi_0243.wav', 'hindi_0257.wav', 'hindi_1149.wav', 'hindi_0531.wav', 'hindi_0914.wav', 'hindi_0928.wav', 'recording2020_01_16_11_15_50.wav', 'hindi_0096.wav', 'gu_00649.wav', 'hindi_0069.wav', 'hindi_0041.wav', 'hindi_0733.wav', 'hindi_0874.wav', 'hindi_0860.wav', 'hindi_0690.wav', 'hindi_0109.wav', 'hindi_1203.wav', 'hindi_0135.wav', 'hindi_0492.wav', 'hindi_1015.wav', 'hindi_1001.wav', 'hindi_0337.wav', 'hindi_0444.wav', 'hindi_0450.wav', 'hindi_0336.wav', 'hindi_1000.wav', 'hindi_0478.wav', 'usfemale (28).wav', 'hindi_1014.wav', 'hindi_0493.wav', 'hindi_0646.wav', 'recording2020_01_16_11_22_38.wav', 'hindi_0652.wav', 'hindi_1202.wav', 'hindi_0685.wav', 'hindi_0849.wav', 'hindi_0691.wav', 'hindi_0861.wav', 'recording2020_01_16_10_57_17.wav', 'hindi_0875.wav', 'hindi_0732.wav', 'hindi_0054.wav', 'hindi_0040.wav', 'hindi_0726.wav', 'hindi_0068.wav', 'hindi_0929.wav', 'hindi_0097.wav', 'hindi_0083.wav', 'hindi_0901.wav', 'hindi_0256.wav', 'hindi_0530.wav', 'hindi_0524.wav', 'hindi_0242.wav', 'hindi_1174.wav', 'hindi_0518.wav', 'hindi_1160.wav', 'hindi_0295.wav', 'hindi_0281.wav', 'recording2020_01_16_11_18_05.wav', 'recording2020_01_16_10_58_46.wav', 'hindi_0297.wav', 'hindi_0283.wav', 'hindi_0268.wav', 'hindi_1176.wav', 'hindi_1162.wav', 'hindi_0254.wav', 'hindi_0240.wav', 'hindi_0526.wav', 'hindi_0917.wav', 'hindi_0081.wav', 'hindi_0718.wav', 'hindi_0056.wav', 'hindi_0730.wav', 'hindi_0724.wav', 'hindi_0042.wav', 'hindi_0863.wav', 'hindi_0687.wav', 'arctic_a0487.wav', 'hindi_1200.wav', 'hindi_0678.wav', 'hindi_0122.wav', 'usfemale (4).wav', 'hindi_0888.wav', 'hindi_0136.wav', 'hindi_0485.wav', 'hindi_1002.wav', 'hindi_1016.wav', 'hindi_0446.wav', 'hindi_0320.wav', 'hindi_0334.wav', 'hindi_0452.wav', 'hindi_0453.wav', 'gu_00273.wav', 'hindi_0321.wav', 'hindi_0490.wav', 'usfemale (24).wav', 'hindi_0889.wav', 'hindi_0137.wav', 'hindi_0123.wav', 'hindi_0645.wav', 'hindi_1201.wav', 'hindi_0679.wav', 'hindi_0692.wav', 'recording2020_01_16_11_03_22.wav', 'hindi_0686.wav', 'hindi_0876.wav', 'hindi_0862.wav', 'hindi_0725.wav', 'hindi_0043.wav', 'hindi_0057.wav', 'arctic_a0525.wav', 'hindi_0731.wav', 'hindi_0719.wav', 'hindi_0094.wav', 'hindi_0916.wav', 'hindi_0527.wav', 'hindi_0533.wav', 'hindi_0255.wav', 'hindi_1177.wav', 'hindi_0269.wav', 'hindi_0282.wav', 'recording2020_01_16_11_18_12.wav', 'hindi_0296.wav', 'hindi_1188.wav', 'usfemale (32).wav', 'hindi_1191.wav', 'hindi_1185.wav', 'recording2020_01_28_11_07_09.wav', 'hindi_0270.wav', 'hindi_0516.wav', 'hindi_0264.wav', 'hindi_1152.wav', 'hindi_0258.wav', 'hindi_0933.wav', 'hindi_0099.wav', 'recording2020_01_16_10_55_34.wav', 'hindi_0927.wav', 'hindi_0714.wav', 'hindi_0066.wav', 'hindi_0700.wav', 'hindi_0728.wav', 'hindi_0847.wav', 'hindi_0660.wav', 'hindi_0106.wav', 'hindi_0674.wav', 'hindi_0884.wav', 'hindi_0648.wav', 'hindi_0489.wav', 'hindi_0462.wav', 'hindi_0476.wav', 'hindi_0338.wav', 'hindi_1032.wav', 'hindi_1033.wav', 'hindi_0339.wav', 'hindi_0477.wav', 'usfemale (27).wav', 'hindi_0488.wav', 'hindi_0891.wav', 'hindi_0113.wav', 'hindi_0675.wav', 'hindi_0661.wav', 'hindi_0107.wav', 'hindi_0852.wav', 'hindi_0846.wav', 'hindi_0729.wav', 'gu_00647.wav', 'hindi_0067.wav', 'hindi_0701.wav', 'hindi_0098.wav', 'hindi_0926.wav', 'hindi_0932.wav', 'hindi_0271.wav', 'hindi_0517.wav', 'recording2020_01_16_11_02_52.wav', 'hindi_1190.wav', 'usfemale (31).wav', 'hindi_1186.wav', 'hindi_1192.wav', 'hindi_0501.wav', 'recording2020_01_16_11_30_09.wav', 'hindi_0515.wav', 'hindi_0273.wav', 'hindi_0529.wav', 'hindi_1151.wav', 'hindi_0918.wav', 'hindi_0924.wav', 'hindi_0930.wav', 'hindi_0703.wav', 'hindi_0065.wav', 'hindi_0071.wav', 'hindi_0059.wav', 'hindi_0878.wav', 'hindi_0688.wav', 'hindi_0111.wav', 'hindi_0105.wav', 'hindi_0663.wav', 'hindi_0139.wav', 'recording2020_01_16_11_31_49.wav', 'hindi_0475.wav', 'hindi_0461.wav', 'hindi_1031.wav', 'hindi_1025.wav', 'hindi_1024.wav', 'hindi_1030.wav', 'hindi_0448.wav', 'hindi_1018.wav', 'hindi_0474.wav', 'recording2020_01_28_11_05_32.wav', 'hindi_0138.wav', 'hindi_0886.wav', 'hindi_0892.wav', 'hindi_0104.wav', 'hindi_0662.wav', 'hindi_0676.wav', 'hindi_0110.wav', 'hindi_0845.wav', 'hindi_0851.wav', 'hindi_0879.wav', 'recording2020_01_16_10_59_22.wav', 'hindi_0070.wav', 'hindi_0716.wav', 'hindi_0702.wav', 'hindi_0064.wav', 'hindi_0931.wav', 'hindi_0925.wav', 'hindi_0528.wav', 'recording2020_01_16_11_23_48.wav', 'hindi_1144.wav', 'hindi_0514.wav', 'hindi_0272.wav', 'hindi_0266.wav', 'hindi_0500.wav', 'hindi_1193.wav', 'hindi_0299.wav', 'hindi_1187.wav', 'hindi_1183.wav', 'hindi_1197.wav', 'hindi_0289.wav', 'hindi_0538.wav', 'hindi_1140.wav', 'hindi_1154.wav', 'hindi_0504.wav', 'hindi_0262.wav', 'hindi_0276.wav', 'hindi_1168.wav', 'hindi_0060.wav', 'hindi_0706.wav', 'hindi_0074.wav', 'hindi_0855.wav', 'hindi_0699.wav', 'hindi_0841.wav', 'hindi_0869.wav', 'recording2020_01_16_10_59_32.wav', 'hindi_0128.wav', 'hindi_0882.wav', 'hindi_0114.wav', 'recording2020_01_16_11_22_18.wav', 'hindi_0672.wav', 'arctic_a0472.wav', 'hindi_0666.wav', 'hindi_0100.wav', 'hindi_1034.wav', 'hindi_1020.wav', 'hindi_0458.wav', 'hindi_0470.wav', 'hindi_1008.wav', 'hindi_0316.wav', 'hindi_0302.wav', 'gu_00522.wav', 'hindi_0464.wav', 'hindi_0465.wav', 'hindi_1009.wav', 'hindi_1021.wav', 'hindi_0459.wav', 'gu_00292.wav', 'hindi_0667.wav', 'hindi_0101.wav', 'hindi_0673.wav', 'hindi_0883.wav', 'hindi_0129.wav', 'hindi_0897.wav', 'recording2020_01_16_11_03_00.wav', 'recording2020_01_16_11_03_14.wav', 'hindi_0868.wav', 'hindi_0698.wav', 'hindi_0854.wav', 'arctic_a0507.wav', 'hindi_0713.wav', 'hindi_0075.wav', 'hindi_0061.wav', 'hindi_0049.wav', 'hindi_0920.wav', 'hindi_1169.wav', 'hindi_0277.wav', 'hindi_0511.wav', 'hindi_0505.wav', 'hindi_1155.wav', 'hindi_0539.wav', 'recording2020_01_16_11_30_31.wav', 'hindi_1141.wav', 'hindi_1196.wav', 'hindi_1182.wav', 'hindi_1194.wav', 'hindi_1180.wav', 'usfemale (30).wav', 'recording2020_01_28_11_07_24.wav', 'hindi_0249.wav', 'hindi_1157.wav', 'hindi_0275.wav', 'hindi_0088.wav', 'hindi_0922.wav', 'hindi_0739.wav', 'hindi_0077.wav', 'hindi_0705.wav', 'hindi_0063.wav', 'hindi_0842.wav', 'hindi_0856.wav', 'hindi_0881.wav', 'hindi_0659.wav', 'hindi_0895.wav', 'recording2020_01_16_11_22_27.wav', 'hindi_0103.wav', 'hindi_0665.wav', 'hindi_0671.wav', 'hindi_0117.wav', 'usfemale (26).wav', 'hindi_0498.wav', 'hindi_1023.wav', 'hindi_1037.wav', 'hindi_0329.wav', 'hindi_0467.wav', 'gu_00534.wav', 'hindi_0472.wav', 'recording2020_01_16_11_32_37.wav', 'hindi_1036.wav', 'hindi_1022.wav', 'hindi_0499.wav', 'hindi_0670.wav', 'hindi_0116.wav', 'hindi_0102.wav', 'hindi_0664.wav', 'hindi_0894.wav', 'hindi_0658.wav', 'hindi_0857.wav', 'hindi_0843.wav', 'hindi_0704.wav', 'hindi_0062.wav', 'hindi_0076.wav', 'hindi_0710.wav', 'hindi_0738.wav', 'hindi_0089.wav', 'hindi_0937.wav', 'hindi_0260.wav', 'hindi_0506.wav', 'hindi_1156.wav', 'hindi_0248.wav', 'recording2020_01_16_11_18_54.wav', 'hindi_0213.wav', 'hindi_0207.wav', 'hindi_1119.wav', 'hindi_0561.wav', 'hindi_0549.wav', 'hindi_0978.wav', 'usfemale (17).wav', 'hindi_0950.wav', 'hindi_0788.wav', 'hindi_0944.wav', 'hindi_0011.wav', 'hindi_0777.wav', 'hindi_0763.wav', 'arctic_a0577.wav', 'hindi_0005.wav', 'hindi_0993.wav', 'hindi_0987.wav', 'hindi_0039.wav', 'hindi_0818.wav', 'hindi_0824.wav', 'hindi_0830.wav', 'hindi_0165.wav', 'gu_00023.wav', 'hindi_0603.wav', 'hindi_0159.wav', 'hindi_0398.wav', 'hindi_1086.wav', 'hindi_1079.wav', 'hindi_0373.wav', 'hindi_0415.wav', 'hindi_1045.wav', 'hindi_1051.wav', 'hindi_0429.wav', 'hindi_1050.wav', 'hindi_1044.wav', 'gu_00552.wav', 'hindi_0372.wav', 'hindi_0414.wav', 'hindi_0400.wav', 'hindi_1093.wav', 'hindi_0616.wav', 'hindi_0602.wav', 'recording2020_01_16_11_31_14.wav', 'hindi_0831.wav', 'recording2020_01_28_11_06_03.wav', 'hindi_0825.wav', 'hindi_0819.wav', 'hindi_0986.wav', 'hindi_0038.wav', 'hindi_0992.wav', 'hindi_0762.wav', 'hindi_0004.wav', 'gu_00630.wav', 'hindi_0010.wav', 'hindi_0776.wav', 'recording2020_01_16_10_55_56.wav', 'hindi_0979.wav', 'hindi_1124.wav', 'recording2020_01_16_11_30_54.wav', 'hindi_0548.wav', 'hindi_1130.wav', 'hindi_1118.wav', 'recording2020_01_16_11_23_14.wav', 'hindi_0206.wav', 'hindi_0560.wav', 'hindi_0574.wav', 'recording2020_01_16_11_23_00.wav', 'recording2020_01_16_11_16_50.wav', 'recording2020_01_16_10_58_00.wav', 'hindi_0562.wav', 'hindi_0576.wav', 'hindi_0238.wav', 'hindi_1126.wav', 'recording2020_01_16_11_30_42.wav', 'hindi_0947.wav', 'hindi_0953.wav', 'hindi_0006.wav', 'hindi_0760.wav', 'hindi_0774.wav', 'hindi_0012.wav', 'hindi_0984.wav', 'hindi_0748.wav', 'hindi_0990.wav', 'recording2020_01_16_11_17_12.wav', 'hindi_0833.wav', 'recording2020_01_16_11_04_46.wav', 'recording2020_01_16_10_57_51.wav', 'hindi_0827.wav', 'hindi_0172.wav', 'hindi_0614.wav', 'usfemale (1).wav', 'hindi_1091.wav', 'hindi_0416.wav', 'hindi_0370.wav', 'hindi_1052.wav', 'hindi_1046.wav', 'hindi_0358.wav', 'hindi_0359.wav', 'hindi_1047.wav', 'hindi_1053.wav', 'hindi_0403.wav', 'hindi_0417.wav', 'hindi_0371.wav', 'hindi_1084.wav', 'usfemale (21).wav', 'hindi_0629.wav', 'gu_00021.wav', 'hindi_0167.wav', 'hindi_0173.wav', 'hindi_0615.wav', 'hindi_0826.wav', 'hindi_0832.wav', 'hindi_0991.wav', 'hindi_0749.wav', 'hindi_0985.wav', 'hindi_0775.wav', 'hindi_0007.wav', 'hindi_0761.wav', 'hindi_0952.wav', 'hindi_1133.wav', 'hindi_0211.wav', 'hindi_0577.wav', 'hindi_0563.wav', 'recording2020_01_28_11_07_40.wav', 'usfemale (36).wav', 'recording2020_01_16_10_58_11.wav', 'recording2020_01_16_11_18_46.wav', 'hindi_1123.wav', 'hindi_0229.wav', 'hindi_0567.wav', 'hindi_0215.wav', 'hindi_0942.wav', 'hindi_0956.wav', 'hindi_0759.wav', 'hindi_0981.wav', 'hindi_0995.wav', 'hindi_0765.wav', 'hindi_0003.wav', 'hindi_0017.wav', 'hindi_0771.wav', 'hindi_0836.wav', 'recording2020_01_16_11_22_53.wav', 'hindi_0639.wav', 'hindi_0611.wav', 'hindi_0177.wav', 'hindi_0163.wav', 'hindi_0605.wav', 'recording2020_01_16_11_00_33.wav', 'usfemale (20).wav', 'hindi_1080.wav', 'hindi_1057.wav', 'hindi_1043.wav', 'hindi_0375.wav', 'hindi_0361.wav', 'hindi_0406.wav', 'hindi_0360.wav', 'hindi_0374.wav', 'hindi_0412.wav', 'recording2020_01_16_11_32_43.wav', 'hindi_1042.wav', 'hindi_0348.wav', 'hindi_1056.wav', 'hindi_1081.wav', 'hindi_1095.wav', 'hindi_0162.wav', 'hindi_0604.wav', 'hindi_0176.wav', 'hindi_0638.wav', 'recording2020_01_28_11_06_11.wav', 'hindi_0823.wav', 'hindi_0189.wav', 'hindi_0016.wav', 'arctic_a0570.wav', 'hindi_0764.wav', 'hindi_0994.wav', 'hindi_0980.wav', 'hindi_0758.wav', 'hindi_0957.wav', 'hindi_0943.wav', 'hindi_0214.wav', 'gu_00434.wav', 'hindi_1136.wav', 'hindi_1122.wav', 'recording2020_01_28_11_07_47.wav', 'hindi_1134.wav', 'recording2020_01_16_11_23_38.wav', 'hindi_0558.wav', 'hindi_1120.wav', 'hindi_0216.wav', 'hindi_1108.wav', 'hindi_0570.wav', 'hindi_0564.wav', 'hindi_0941.wav', 'hindi_0969.wav', 'hindi_0028.wav', 'hindi_0982.wav', 'hindi_0772.wav', 'hindi_0766.wav', 'hindi_0821.wav', 'hindi_0835.wav', 'recording2020_01_16_11_22_44.wav', 'hindi_0148.wav', 'recording2020_01_16_11_31_38.wav', 'hindi_0160.wav', 'hindi_0174.wav', 'gu_00032.wav', 'hindi_1083.wav', 'hindi_0389.wav', 'hindi_1097.wav', 'hindi_1040.wav', 'hindi_0438.wav', 'hindi_1054.wav', 'hindi_0362.wav', 'hindi_0404.wav', 'hindi_0410.wav', 'hindi_1068.wav', 'hindi_0376.wav', 'hindi_0411.wav', 'hindi_0377.wav', 'hindi_1069.wav', 'hindi_0363.wav', 'hindi_0405.wav', 'hindi_1041.wav', 'hindi_0439.wav', 'recording2020_01_28_11_05_43.wav', 'hindi_1096.wav', 'hindi_0388.wav', 'hindi_0175.wav', 'hindi_0613.wav', 'arctic_a0407.wav', 'hindi_0607.wav', 'arctic_a0375.wav', 'hindi_0149.wav', 'hindi_0808.wav', 'hindi_0834.wav', 'hindi_0820.wav', 'hindi_0015.wav', 'hindi_0983.wav', 'hindi_0029.wav', 'hindi_0968.wav', 'usfemale (16).wav', 'hindi_0940.wav', 'hindi_0954.wav', 'hindi_1109.wav', 'hindi_0571.wav', 'hindi_0559.wav']\n"
     ]
    }
   ],
   "source": [
    "import os\n",
    "audio_folder = \"/Users/chhavigupta/Downloads/voice_samples\"\n",
    "audio_files = [f for f in os.listdir(audio_folder) if f.endswith('.wav')]\n",
    "print(audio_files)"
   ]
  },
  {
   "cell_type": "code",
   "execution_count": 4,
   "id": "a78286a4-23bc-465b-87dc-a17cccf0334b",
   "metadata": {},
   "outputs": [],
   "source": [
    "import whisper\n",
    "\n",
    "model = whisper.load_model(\"tiny\")#load_model(\"base\") will load pre trained whisper model base and also base has better accuracy then tiny\n",
    "\n",
    "def transcribe_audio(file_path):\n",
    "    result = model.transcribe(file_path)  # Transcribes the audio file\n",
    "    return result['text']  # Extracts only the text (transcript)\n"
   ]
  },
  {
   "cell_type": "code",
   "execution_count": 5,
   "id": "7533cfe2-7998-486f-a3eb-0bb17e2e2e60",
   "metadata": {},
   "outputs": [],
   "source": [
    "import language_tool_python #is used to check spelling ,grammar and style in  english \n",
    "tool = language_tool_python.LanguageTool('en-US')\n",
    "def get_grammar_score(text):\n",
    "    matches = tool.check(text)#finds grammar/spelling issues\n",
    "    num_errors = len(matches)#how many grammar issues\n",
    "    words = len(text.split())#how many words in a text\n",
    "    if words == 0:                      \n",
    "        return 0, num_errors, matches\n",
    "    score = max(0, 100 - (num_errors / words) * 100)#calculate grammar score 0 to 100\n",
    "    return round(score,2),num_errors,matches"
   ]
  },
  {
   "cell_type": "code",
   "execution_count": null,
   "id": "9c19cd80-5357-46ae-91b8-ddf695b1c886",
   "metadata": {},
   "outputs": [],
   "source": [
    "results = []\n",
    "\n",
    "for file in audio_files:\n",
    "    path = os.path.join(audio_folder, file)  \n",
    "    transcript = transcribe_audio(path)\n",
    "    score, errors, matches = get_grammar_score(transcript)\n",
    "\n",
    "    results.append({\n",
    "        \"file\": file,\n",
    "        \"transcript\": transcript,\n",
    "        \"grammar_score\": score,\n",
    "        \"errors\": errors\n",
    "    })\n"
   ]
  },
  {
   "cell_type": "code",
   "execution_count": null,
   "id": "9745a8b9-eec6-4195-ba46-6e5b452c9509",
   "metadata": {
    "scrolled": true
   },
   "outputs": [],
   "source": [
    "import pandas as pd\n",
    "\n",
    "df = pd.DataFrame(results)\n",
    "df.sort_values(by=\"grammar_score\",inplace=True)#inplace = True is used to directly modify dataframe without making copy of it\n",
    "df.head()"
   ]
  },
  {
   "cell_type": "code",
   "execution_count": null,
   "id": "7069d9dd-7f14-4941-b03c-2f799d136a46",
   "metadata": {},
   "outputs": [],
   "source": [
    "\n",
    "import seaborn as sns\n",
    "import matplotlib.pyplot as plt\n",
    "\n",
    "plt.figure(figsize=(10, 6))#10 width and 6 height\n",
    "sns.barplot(x=\"grammar_score\", y=\"file\", data=df)\n",
    "plt.title(\"Grammar Scores for Audio Samples\")\n",
    "plt.xlabel(\"Grammar Score\")\n",
    "plt.ylabel(\"Audio File\")\n",
    "plt.show()"
   ]
  }
 ],
 "metadata": {
  "kernelspec": {
   "display_name": "Python 3 (ipykernel)",
   "language": "python",
   "name": "python3"
  },
  "language_info": {
   "codemirror_mode": {
    "name": "ipython",
    "version": 3
   },
   "file_extension": ".py",
   "mimetype": "text/x-python",
   "name": "python",
   "nbconvert_exporter": "python",
   "pygments_lexer": "ipython3",
   "version": "3.12.4"
  }
 },
 "nbformat": 4,
 "nbformat_minor": 5
}
